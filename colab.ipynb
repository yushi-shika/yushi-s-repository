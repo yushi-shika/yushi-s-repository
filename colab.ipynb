{
  "cells": [
    {
      "cell_type": "markdown",
      "metadata": {
        "id": "F7aJhsgLAWvO"
      },
      "source": [
        "# Style-Bert-VITS2 (ver 2.6.1) のGoogle Colabでの学習\n",
        "\n",
        "Google Colab上でStyle-Bert-VITS2の学習を行うことができます。\n",
        "\n",
        "このnotebookでは、通常使用ではあなたのGoogle Driveにフォルダ`Style-Bert-VITS2`を作り、その内部での作業を行います。他のフォルダには触れません。\n",
        "Google Driveを使わない場合は、初期設定のところで適切なパスを指定してください。\n",
        "\n",
        "## 流れ\n",
        "\n",
        "### 学習を最初からやりたいとき\n",
        "上から順に実行していけばいいです。音声合成に必要なファイルはGoogle Driveの`Style-Bert-VITS2/model_assets/`に保存されます。また、途中経過も`Style-Bert-VITS2/Data/`に保存されるので、学習を中断したり、途中から再開することもできます。\n",
        "\n",
        "### 学習を途中から再開したいとき\n",
        "0と1を行い、3の前処理は飛ばして、4から始めてください。スタイル分け5は、学習が終わったら必要なら行ってください。\n"
      ]
    },
    {
      "cell_type": "markdown",
      "metadata": {
        "id": "L-gAIubBAWvQ"
      },
      "source": [
        "## 0. 環境構築\n",
        "\n",
        "Style-Bert-VITS2の環境をcolab上に構築します。ランタイムがT4等のGPUバックエンドになっていることを確認し、実行してください。\n",
        "\n",
        "**注意**: このセルを実行した後に「セッションがクラッシュしました」「不明な理由により、セッションがクラッシュしました。」等の警告が出ますが、**無視してそのまま先へ**進んでください。（一度ランタイムを再起動させてnumpy<2を強制させるため `exit()` を呼んでいることからの措置です。）"
      ]
    },
    {
      "cell_type": "code",
      "execution_count": 1,
      "metadata": {
        "colab": {
          "base_uri": "https://localhost:8080/"
        },
        "id": "0GNj8JyDAlm2",
        "outputId": "c3f73e22-0372-46fe-eb65-a9cb3b5c45b5"
      },
      "outputs": [
        {
          "output_type": "stream",
          "name": "stdout",
          "text": [
            "downloading uv 0.8.11 x86_64-unknown-linux-gnu\n",
            "no checksums to verify\n",
            "installing to /usr/local/bin\n",
            "  uv\n",
            "  uvx\n",
            "everything's installed!\n",
            "fatal: destination path 'Style-Bert-VITS2' already exists and is not an empty directory.\n",
            "/content/Style-Bert-VITS2\n",
            "\u001b[2mUsing Python 3.11.13 environment at: /usr\u001b[0m\n",
            "\u001b[2mAudited \u001b[1m20 packages\u001b[0m \u001b[2min 104ms\u001b[0m\u001b[0m\n"
          ]
        }
      ],
      "source": [
        "import os\n",
        "\n",
        "os.environ[\"PATH\"] += \":/root/.cargo/bin\"\n",
        "\n",
        "!curl -LsSf https://astral.sh/uv/install.sh | sh\n",
        "!git clone https://github.com/litagin02/Style-Bert-VITS2.git\n",
        "%cd Style-Bert-VITS2/\n",
        "!uv pip install --system -r requirements-colab.txt --no-progress\n",
        "!python initialize.py --skip_default_models\n",
        "\n",
        "exit()"
      ]
    },
    {
      "cell_type": "code",
      "execution_count": null,
      "metadata": {
        "id": "o5z1nzkvAWvR"
      },
      "outputs": [],
      "source": [
        "# Google driveを使う方はこちらを実行してください。\n",
        "\n",
        "from google.colab import drive\n",
        "\n",
        "drive.mount(\"/content/drive\")"
      ]
    },
    {
      "cell_type": "markdown",
      "metadata": {
        "id": "WU9apXzcAWvR"
      },
      "source": [
        "## 1. 初期設定\n",
        "\n",
        "学習とその結果を保存するディレクトリ名を指定します。\n",
        "Google driveの場合はそのまま実行、カスタマイズしたい方は変更して実行してください。"
      ]
    },
    {
      "cell_type": "code",
      "execution_count": 1,
      "metadata": {
        "id": "gO3OwZV1AWvR",
        "colab": {
          "base_uri": "https://localhost:8080/"
        },
        "outputId": "2e45baf0-a48e-40f1-c320-487605a56950"
      },
      "outputs": [
        {
          "output_type": "stream",
          "name": "stdout",
          "text": [
            "/content/Style-Bert-VITS2\n"
          ]
        }
      ],
      "source": [
        "# 作業ディレクトリを移動\n",
        "%cd /content/Style-Bert-VITS2/\n",
        "\n",
        "# 学習に必要なファイルや途中経過が保存されるディレクトリ\n",
        "dataset_root = \"/content/drive/MyDrive/Style-Bert-VITS2/Data\"\n",
        "\n",
        "# 学習結果（音声合成に必要なファイルたち）が保存されるディレクトリ\n",
        "assets_root = \"/content/drive/MyDrive/Style-Bert-VITS2/model_assets\"\n",
        "\n",
        "import yaml\n",
        "\n",
        "\n",
        "with open(\"configs/paths.yml\", \"w\", encoding=\"utf-8\") as f:\n",
        "    yaml.dump({\"dataset_root\": dataset_root, \"assets_root\": assets_root}, f)"
      ]
    },
    {
      "cell_type": "markdown",
      "metadata": {
        "id": "dA_yLeezAWvS"
      },
      "source": [
        "## 2. 学習に使うデータ準備\n",
        "\n",
        "すでに音声ファイル（1ファイル2-12秒程度）とその書き起こしデータがある場合は2.2を、ない場合は2.1を実行してください。"
      ]
    },
    {
      "cell_type": "markdown",
      "metadata": {
        "id": "8s9gOnTCAWvS"
      },
      "source": [
        "### 2.1 音声ファイルからのデータセットの作成（ある人はスキップ可）\n",
        "\n",
        "音声ファイル（1ファイル2-12秒程度）とその書き起こしのデータセットを持っていない方は、（日本語の）音声ファイルのみから以下の手順でデータセットを作成することができます。Google drive上の`Style-Bert-VITS2/inputs/`フォルダに音声ファイル（wavやmp3等の通常の音声ファイル形式、1ファイルでも複数ファイルでも可）を置いて、下を実行すると、データセットが作られ、自動的に正しい場所へ配置されます。\n",
        "\n",
        "**2024-06-02のVer 2.5以降**、`inputs/`フォルダにサブフォルダを2個以上作ってそこへ音声ファイルをスタイルに応じて振り分けて置くと、学習の際にサブディレクトリに応じたスタイルが自動的に作成されます。デフォルトスタイルのみでよい場合や手動でスタイルを後で作成する場合は`inputs/`直下へ入れれば大丈夫です。"
      ]
    },
    {
      "cell_type": "code",
      "execution_count": 2,
      "metadata": {
        "colab": {
          "base_uri": "https://localhost:8080/"
        },
        "id": "_fXCTPuiAWvS",
        "outputId": "da865941-b65d-4981-fc64-b59b9754e43e"
      },
      "outputs": [
        {
          "output_type": "stream",
          "name": "stdout",
          "text": [
            "08-16 12:32:40 |  INFO  | slice.py:167 | Found 24 audio files.\n",
            "08-16 12:32:40 |WARNING | slice.py:169 | Output directory /content/drive/MyDrive/Style-Bert-VITS2/Data/Minami/raw already exists, deleting...\n",
            "Using cache found in /root/.cache/torch/hub/litagin02_silero-vad_master\n",
            "  0%|          | 0/24 [00:00<?, ?it/s]Using cache found in /root/.cache/torch/hub/litagin02_silero-vad_master\n",
            "Using cache found in /root/.cache/torch/hub/litagin02_silero-vad_master\n",
            "Using cache found in /root/.cache/torch/hub/litagin02_silero-vad_master\n",
            "100%|##########| 24/24 [00:32<00:00,  1.34s/it]\n",
            "08-16 12:33:13 |  INFO  | slice.py:265 | Slice done! Total time: 28.93 min, 192 files.\n",
            "08-16 12:33:16 |WARNING | transcribe.py:159 | /content/drive/MyDrive/Style-Bert-VITS2/Data/Minami/esd.list exists, backing up to /content/drive/MyDrive/Style-Bert-VITS2/Data/Minami/esd.list.bak\n",
            "08-16 12:33:16 |  INFO  | transcribe.py:203 | Loading HF Whisper model (openai/whisper-large-v3)\n",
            "  0%|          | 0/192 [00:00<?, ?it/s]2025-08-16 12:33:24.511495: E external/local_xla/xla/stream_executor/cuda/cuda_fft.cc:467] Unable to register cuFFT factory: Attempting to register factory for plugin cuFFT when one has already been registered\n",
            "WARNING: All log messages before absl::InitializeLog() is called are written to STDERR\n",
            "E0000 00:00:1755347604.719896   24701 cuda_dnn.cc:8579] Unable to register cuDNN factory: Attempting to register factory for plugin cuDNN when one has already been registered\n",
            "E0000 00:00:1755347604.781921   24701 cuda_blas.cc:1407] Unable to register cuBLAS factory: Attempting to register factory for plugin cuBLAS when one has already been registered\n",
            "W0000 00:00:1755347605.196634   24701 computation_placer.cc:177] computation placer already registered. Please check linkage and avoid linking the same target more than once.\n",
            "W0000 00:00:1755347605.196684   24701 computation_placer.cc:177] computation placer already registered. Please check linkage and avoid linking the same target more than once.\n",
            "W0000 00:00:1755347605.196689   24701 computation_placer.cc:177] computation placer already registered. Please check linkage and avoid linking the same target more than once.\n",
            "W0000 00:00:1755347605.196693   24701 computation_placer.cc:177] computation placer already registered. Please check linkage and avoid linking the same target more than once.\n",
            "2025-08-16 12:33:25.237705: I tensorflow/core/platform/cpu_feature_guard.cc:210] This TensorFlow binary is optimized to use available CPU instructions in performance-critical operations.\n",
            "To enable the following instructions: AVX2 FMA, in other operations, rebuild TensorFlow with the appropriate compiler flags.\n",
            "08-16 12:33:33 |  INFO  | transcribe.py:70 | generate_kwargs: {'language': 'ja', 'do_sample': False, 'num_beams': 1, 'no_repeat_ngram_size': 10}\n",
            "Device set to use cuda\n",
            "Using `chunk_length_s` is very experimental with seq2seq models. The results will not necessarily be entirely accurate and will have caveats. More information: https://github.com/huggingface/transformers/pull/20104. Ignore this warning with pipeline(..., ignore_warning=True). To use Whisper for long-form transcription, use rather the model's `generate` method directly as the model relies on it's own chunking mechanism (cf. Whisper original paper, section 3.8. Long-form Transcription).\n",
            "100%|##########| 192/192 [02:15<00:00,  1.42it/s]\n"
          ]
        }
      ],
      "source": [
        "# 元となる音声ファイル（wav形式）を入れるディレクトリ\n",
        "input_dir = \"/content/Style-Bert-VITS2/inputs\"\n",
        "# モデル名（話者名）を入力\n",
        "model_name = \"Minami\"\n",
        "\n",
        "# こういうふうに書き起こして欲しいという例文（句読点の入れ方・笑い方や固有名詞等）\n",
        "initial_prompt = \"こんにちは。元気、ですかー？ふふっ、私は……ちゃんと元気だよ！\"\n",
        "\n",
        "!python slice.py -i {input_dir} --model_name {model_name}\n",
        "!python transcribe.py --model_name {model_name} --initial_prompt {initial_prompt} --use_hf_whisper"
      ]
    },
    {
      "cell_type": "markdown",
      "metadata": {
        "id": "j7vEWewoAWvS"
      },
      "source": [
        "成功したらそのまま3へ進んでください"
      ]
    },
    {
      "cell_type": "markdown",
      "metadata": {
        "id": "Z3AC-3zpAWvS"
      },
      "source": [
        "### 2.2 音声ファイルと書き起こしデータがすでにある場合\n",
        "\n",
        "指示に従って適切にデータセットを配置してください。\n",
        "\n",
        "次のセルを実行して、学習データをいれるフォルダ（1で設定した`dataset_root`）を作成します。"
      ]
    },
    {
      "cell_type": "code",
      "execution_count": null,
      "metadata": {
        "id": "esCNJl704h52"
      },
      "outputs": [],
      "source": [
        "import os\n",
        "\n",
        "os.makedirs(dataset_root, exist_ok=True)"
      ]
    },
    {
      "cell_type": "markdown",
      "metadata": {
        "id": "aaDgJCjCAWvT"
      },
      "source": [
        "まず音声データと、書き起こしテキストを用意してください。\n",
        "\n",
        "それを次のように配置します。\n",
        "```\n",
        "├── Data/\n",
        "│   ├── {モデルの名前}\n",
        "│   │   ├── esd.list\n",
        "│   │   ├── raw/\n",
        "│   │   │   ├── foo.wav\n",
        "│   │   │   ├── bar.mp3\n",
        "│   │   │   ├── style1/\n",
        "│   │   │   │   ├── baz.wav\n",
        "│   │   │   │   ├── qux.wav\n",
        "│   │   │   ├── style2/\n",
        "│   │   │   │   ├── corge.wav\n",
        "│   │   │   │   ├── grault.wav\n",
        "...\n",
        "```\n",
        "\n",
        "### 配置の仕方\n",
        "- 上のように配置すると、`style1/`と`style2/`フォルダの内部（直下以外も含む）に入っている音声ファイルたちから、自動的にデフォルトスタイルに加えて`style1`と`style2`というスタイルが作成されます\n",
        "- 特にスタイルを作る必要がない場合や、スタイル分類機能等でスタイルを作る場合は、`raw/`フォルダ直下に全てを配置してください。このように`raw/`のサブディレクトリの個数が0または1の場合は、スタイルはデフォルトスタイルのみが作成されます。\n",
        "- 音声ファイルのフォーマットはwav形式以外にもmp3等の多くの音声ファイルに対応しています\n",
        "\n",
        "### 書き起こしファイル`esd.list`\n",
        "\n",
        "`Data/{モデルの名前}/esd.list` ファイルには、以下のフォーマットで各音声ファイルの情報を記述してください。\n",
        "\n",
        "\n",
        "```\n",
        "path/to/audio.wav(wavファイル以外でもこう書く)|{話者名}|{言語ID、ZHかJPかEN}|{書き起こしテキスト}\n",
        "```\n",
        "\n",
        "- ここで、最初の`path/to/audio.wav`は、`raw/`からの相対パスです。つまり、`raw/foo.wav`の場合は`foo.wav`、`raw/style1/bar.wav`の場合は`style1/bar.wav`となります。\n",
        "- 拡張子がwavでない場合でも、`esd.list`には`wav`と書いてください、つまり、`raw/bar.mp3`の場合でも`bar.wav`と書いてください。\n",
        "\n",
        "\n",
        "例：\n",
        "```\n",
        "foo.wav|hanako|JP|こんにちは、元気ですか？\n",
        "bar.wav|taro|JP|はい、聞こえています……。何か用ですか？\n",
        "style1/baz.wav|hanako|JP|今日はいい天気ですね。\n",
        "style1/qux.wav|taro|JP|はい、そうですね。\n",
        "...\n",
        "english_teacher.wav|Mary|EN|How are you? I'm fine, thank you, and you?\n",
        "...\n",
        "```\n",
        "もちろん日本語話者の単一話者データセットでも構いません。"
      ]
    },
    {
      "cell_type": "markdown",
      "metadata": {
        "id": "5r85-W20ECcr"
      },
      "source": [
        "## 3. 学習の前処理\n",
        "\n",
        "次に学習の前処理を行います。必要なパラメータをここで指定します。次のセルに設定等を入力して実行してください。「～～かどうか」は`True`もしくは`False`を指定してください。"
      ]
    },
    {
      "cell_type": "code",
      "execution_count": 3,
      "metadata": {
        "id": "CXR7kjuF5GlE"
      },
      "outputs": [],
      "source": [
        "# 上でつけたフォルダの名前`Data/{model_name}/`\n",
        "model_name = \"Minami\"\n",
        "\n",
        "# JP-Extra （日本語特化版）を使うかどうか。日本語の能力が向上する代わりに英語と中国語は使えなくなります。\n",
        "use_jp_extra = True\n",
        "\n",
        "# 学習のバッチサイズ。VRAMのはみ出具合に応じて調整してください。\n",
        "batch_size = 4\n",
        "\n",
        "# 学習のエポック数（データセットを合計何周するか）。\n",
        "# 100で多すぎるほどかもしれませんが、もっと多くやると質が上がるのかもしれません。\n",
        "epochs = 100\n",
        "\n",
        "# 保存頻度。何ステップごとにモデルを保存するか。分からなければデフォルトのままで。\n",
        "save_every_steps = 1000\n",
        "\n",
        "# 音声ファイルの音量を正規化するかどうか\n",
        "normalize = False\n",
        "\n",
        "# 音声ファイルの開始・終了にある無音区間を削除するかどうか\n",
        "trim = False\n",
        "\n",
        "# 読みのエラーが出た場合にどうするか。\n",
        "# \"raise\"ならテキスト前処理が終わったら中断、\"skip\"なら読めない行は学習に使わない、\"use\"なら無理やり使う\n",
        "yomi_error = \"skip\""
      ]
    },
    {
      "cell_type": "markdown",
      "metadata": {
        "id": "BFZdLTtpAWvT"
      },
      "source": [
        "上のセルが実行されたら、次のセルを実行して学習の前処理を行います。"
      ]
    },
    {
      "cell_type": "code",
      "execution_count": 4,
      "metadata": {
        "colab": {
          "base_uri": "https://localhost:8080/"
        },
        "id": "xMVaOIPLabV5",
        "outputId": "e3a62dbd-e439-497f-af1d-730a1377693c"
      },
      "outputs": [
        {
          "output_type": "stream",
          "name": "stdout",
          "text": [
            "08-16 12:38:43 | DEBUG  | __init__.py:92 | try starting pyopenjtalk worker server\n",
            "08-16 12:38:44 | DEBUG  | __init__.py:130 | pyopenjtalk worker server started\n",
            "08-16 12:38:44 |  INFO  | train.py:72 | Step 1: start initialization...\n",
            "model_name: Minami, batch_size: 4, epochs: 100, save_every_steps: 1000, freeze_ZH_bert: False, freeze_JP_bert: False, freeze_EN_bert: False, freeze_style: False, freeze_decoder: False, use_jp_extra: True\n",
            "08-16 12:38:44 |WARNING | train.py:103 | Step 1: /content/drive/MyDrive/Style-Bert-VITS2/Data/Minami/models already exists, so copy it to backup to /content/drive/MyDrive/Style-Bert-VITS2/Data/Minami/models_backup\n",
            "08-16 12:38:55 |SUCCESS | train.py:132 | Step 1: initialization finished.\n",
            "08-16 12:38:55 |  INFO  | train.py:137 | Step 2: start resampling...\n",
            "08-16 12:38:55 |  INFO  | subprocess.py:23 | Running: resample.py -i /content/drive/MyDrive/Style-Bert-VITS2/Data/Minami/raw -o /content/drive/MyDrive/Style-Bert-VITS2/Data/Minami/wavs --num_processes 2 --sr 44100\n",
            "08-16 12:39:05 |SUCCESS | subprocess.py:38 | Success: resample.py -i /content/drive/MyDrive/Style-Bert-VITS2/Data/Minami/raw -o /content/drive/MyDrive/Style-Bert-VITS2/Data/Minami/wavs --num_processes 2 --sr 44100\n",
            "08-16 12:39:05 |SUCCESS | train.py:163 | Step 2: resampling finished.\n",
            "08-16 12:39:05 |  INFO  | train.py:170 | Step 3: start preprocessing text...\n",
            "08-16 12:39:05 |  INFO  | subprocess.py:23 | Running: preprocess_text.py --config-path /content/drive/MyDrive/Style-Bert-VITS2/Data/Minami/config.json --transcription-path /content/drive/MyDrive/Style-Bert-VITS2/Data/Minami/esd.list --train-path /content/drive/MyDrive/Style-Bert-VITS2/Data/Minami/train.list --val-path /content/drive/MyDrive/Style-Bert-VITS2/Data/Minami/val.list --val-per-lang 0 --yomi_error skip --correct_path --use_jp_extra\n",
            "08-16 12:39:21 |WARNING | subprocess.py:36 | Warning: preprocess_text.py --config-path /content/drive/MyDrive/Style-Bert-VITS2/Data/Minami/config.json --transcription-path /content/drive/MyDrive/Style-Bert-VITS2/Data/Minami/esd.list --train-path /content/drive/MyDrive/Style-Bert-VITS2/Data/Minami/train.list --val-path /content/drive/MyDrive/Style-Bert-VITS2/Data/Minami/val.list --val-per-lang 0 --yomi_error skip --correct_path --use_jp_extra\n",
            "2025-08-16 12:39:13.818130: E external/local_xla/xla/stream_executor/cuda/cuda_fft.cc:467] Unable to register cuFFT factory: Attempting to register factory for plugin cuFFT when one has already been registered\n",
            "WARNING: All log messages before absl::InitializeLog() is called are written to STDERR\n",
            "E0000 00:00:1755347953.838447   26993 cuda_dnn.cc:8579] Unable to register cuDNN factory: Attempting to register factory for plugin cuDNN when one has already been registered\n",
            "E0000 00:00:1755347953.846653   26993 cuda_blas.cc:1407] Unable to register cuBLAS factory: Attempting to register factory for plugin cuBLAS when one has already been registered\n",
            "W0000 00:00:1755347953.864968   26993 computation_placer.cc:177] computation placer already registered. Please check linkage and avoid linking the same target more than once.\n",
            "W0000 00:00:1755347953.865004   26993 computation_placer.cc:177] computation placer already registered. Please check linkage and avoid linking the same target more than once.\n",
            "W0000 00:00:1755347953.865009   26993 computation_placer.cc:177] computation placer already registered. Please check linkage and avoid linking the same target more than once.\n",
            "W0000 00:00:1755347953.865011   26993 computation_placer.cc:177] computation placer already registered. Please check linkage and avoid linking the same target more than once.\n",
            "2025-08-16 12:39:13.872864: I tensorflow/core/platform/cpu_feature_guard.cc:210] This TensorFlow binary is optimized to use available CPU instructions in performance-critical operations.\n",
            "To enable the following instructions: AVX2 FMA, in other operations, rebuild TensorFlow with the appropriate compiler flags.\n",
            "\n",
            "08-16 12:39:21 |WARNING | train.py:205 | Step 3: preprocessing text finished with stderr.\n",
            "08-16 12:39:21 |  INFO  | train.py:215 | Step 4: start bert_gen...\n",
            "08-16 12:39:21 |  INFO  | subprocess.py:23 | Running: bert_gen.py --config /content/drive/MyDrive/Style-Bert-VITS2/Data/Minami/config.json\n",
            "08-16 12:45:55 |WARNING | subprocess.py:36 | Warning: bert_gen.py --config /content/drive/MyDrive/Style-Bert-VITS2/Data/Minami/config.json\n",
            "2025-08-16 12:39:30.078160: E external/local_xla/xla/stream_executor/cuda/cuda_fft.cc:467] Unable to register cuFFT factory: Attempting to register factory for plugin cuFFT when one has already been registered\n",
            "WARNING: All log messages before absl::InitializeLog() is called are written to STDERR\n",
            "E0000 00:00:1755347970.101115   27089 cuda_dnn.cc:8579] Unable to register cuDNN factory: Attempting to register factory for plugin cuDNN when one has already been registered\n",
            "E0000 00:00:1755347970.108357   27089 cuda_blas.cc:1407] Unable to register cuBLAS factory: Attempting to register factory for plugin cuBLAS when one has already been registered\n",
            "W0000 00:00:1755347970.126911   27089 computation_placer.cc:177] computation placer already registered. Please check linkage and avoid linking the same target more than once.\n",
            "W0000 00:00:1755347970.126939   27089 computation_placer.cc:177] computation placer already registered. Please check linkage and avoid linking the same target more than once.\n",
            "W0000 00:00:1755347970.126943   27089 computation_placer.cc:177] computation placer already registered. Please check linkage and avoid linking the same target more than once.\n",
            "W0000 00:00:1755347970.126945   27089 computation_placer.cc:177] computation placer already registered. Please check linkage and avoid linking the same target more than once.\n",
            "2025-08-16 12:39:30.132944: I tensorflow/core/platform/cpu_feature_guard.cc:210] This TensorFlow binary is optimized to use available CPU instructions in performance-critical operations.\n",
            "To enable the following instructions: AVX2 FMA, in other operations, rebuild TensorFlow with the appropriate compiler flags.\n",
            "\n",
            "08-16 12:45:55 |WARNING | train.py:224 | Step 4: bert_gen finished with stderr.\n",
            "08-16 12:45:55 |  INFO  | train.py:234 | Step 5: start style_gen...\n",
            "08-16 12:45:55 |  INFO  | subprocess.py:23 | Running: style_gen.py --config /content/drive/MyDrive/Style-Bert-VITS2/Data/Minami/config.json --num_processes 2\n",
            "08-16 12:46:15 |WARNING | subprocess.py:36 | Warning: style_gen.py --config /content/drive/MyDrive/Style-Bert-VITS2/Data/Minami/config.json --num_processes 2\n",
            "/usr/local/lib/python3.11/dist-packages/pyannote/audio/utils/reproducibility.py:74: ReproducibilityWarning: TensorFloat-32 (TF32) has been disabled as it might lead to reproducibility issues and lower accuracy.\n",
            "It can be re-enabled by calling\n",
            "   >>> import torch\n",
            "   >>> torch.backends.cuda.matmul.allow_tf32 = True\n",
            "   >>> torch.backends.cudnn.allow_tf32 = True\n",
            "See https://github.com/pyannote/pyannote-audio/issues/1370 for more details.\n",
            "\n",
            "  warnings.warn(\n",
            "\n",
            "08-16 12:46:15 |WARNING | train.py:252 | Step 5: style_gen finished with stderr.\n",
            "08-16 12:46:15 |SUCCESS | train.py:321 | Success: All preprocess finished!\n"
          ]
        },
        {
          "output_type": "execute_result",
          "data": {
            "text/plain": [
              "(True, 'Success: 全ての前処理が完了しました。ターミナルを確認しておかしいところがないか確認するのをおすすめします。')"
            ]
          },
          "metadata": {},
          "execution_count": 4
        }
      ],
      "source": [
        "from gradio_tabs.train import preprocess_all\n",
        "from style_bert_vits2.nlp.japanese import pyopenjtalk_worker\n",
        "\n",
        "\n",
        "pyopenjtalk_worker.initialize_worker()\n",
        "\n",
        "preprocess_all(\n",
        "    model_name=model_name,\n",
        "    batch_size=batch_size,\n",
        "    epochs=epochs,\n",
        "    save_every_steps=save_every_steps,\n",
        "    num_processes=2,\n",
        "    normalize=normalize,\n",
        "    trim=trim,\n",
        "    freeze_EN_bert=False,\n",
        "    freeze_JP_bert=False,\n",
        "    freeze_ZH_bert=False,\n",
        "    freeze_style=False,\n",
        "    freeze_decoder=False,\n",
        "    use_jp_extra=use_jp_extra,\n",
        "    val_per_lang=0,\n",
        "    log_interval=200,\n",
        "    yomi_error=yomi_error,\n",
        ")"
      ]
    },
    {
      "cell_type": "markdown",
      "metadata": {
        "id": "sVhwI5C-AWvT"
      },
      "source": [
        "## 4. 学習\n",
        "\n",
        "前処理が正常に終わったら、学習を行います。次のセルを実行すると学習が始まります。\n",
        "\n",
        "学習の結果は、上で指定した`save_every_steps`の間隔で、Google Driveの中の`Style-Bert-VITS2/Data/{モデルの名前}/model_assets/`フォルダに保存されます。\n",
        "\n",
        "このフォルダをダウンロードし、ローカルのStyle-Bert-VITS2の`model_assets`フォルダに上書きすれば、学習結果を使うことができます。"
      ]
    },
    {
      "cell_type": "code",
      "execution_count": 5,
      "metadata": {
        "id": "laieKrbEb6Ij"
      },
      "outputs": [],
      "source": [
        "# 上でつけたモデル名を入力。学習を途中からする場合はきちんとモデルが保存されているフォルダ名を入力。\n",
        "model_name = \"Minami\"\n",
        "\n",
        "\n",
        "import yaml\n",
        "from gradio_tabs.train import get_path\n",
        "\n",
        "paths = get_path(model_name)\n",
        "dataset_path = str(paths.dataset_path)\n",
        "config_path = str(paths.config_path)\n",
        "\n",
        "with open(\"default_config.yml\", \"r\", encoding=\"utf-8\") as f:\n",
        "    yml_data = yaml.safe_load(f)\n",
        "yml_data[\"model_name\"] = model_name\n",
        "with open(\"config.yml\", \"w\", encoding=\"utf-8\") as f:\n",
        "    yaml.dump(yml_data, f, allow_unicode=True)"
      ]
    },
    {
      "cell_type": "code",
      "execution_count": 6,
      "metadata": {
        "colab": {
          "base_uri": "https://localhost:8080/"
        },
        "id": "JqGeHNabAWvT",
        "outputId": "62dc84e8-7fe1-48f7-bc1c-78f3d0ba7688"
      },
      "outputs": [
        {
          "output_type": "stream",
          "name": "stdout",
          "text": [
            "2025-08-16 12:50:40.935052: E external/local_xla/xla/stream_executor/cuda/cuda_fft.cc:467] Unable to register cuFFT factory: Attempting to register factory for plugin cuFFT when one has already been registered\n",
            "WARNING: All log messages before absl::InitializeLog() is called are written to STDERR\n",
            "E0000 00:00:1755348640.956779   29959 cuda_dnn.cc:8579] Unable to register cuDNN factory: Attempting to register factory for plugin cuDNN when one has already been registered\n",
            "E0000 00:00:1755348640.963769   29959 cuda_blas.cc:1407] Unable to register cuBLAS factory: Attempting to register factory for plugin cuBLAS when one has already been registered\n",
            "W0000 00:00:1755348640.985005   29959 computation_placer.cc:177] computation placer already registered. Please check linkage and avoid linking the same target more than once.\n",
            "W0000 00:00:1755348640.985040   29959 computation_placer.cc:177] computation placer already registered. Please check linkage and avoid linking the same target more than once.\n",
            "W0000 00:00:1755348640.985046   29959 computation_placer.cc:177] computation placer already registered. Please check linkage and avoid linking the same target more than once.\n",
            "W0000 00:00:1755348640.985050   29959 computation_placer.cc:177] computation placer already registered. Please check linkage and avoid linking the same target more than once.\n",
            "2025-08-16 12:50:40.990337: I tensorflow/core/platform/cpu_feature_guard.cc:210] This TensorFlow binary is optimized to use available CPU instructions in performance-critical operations.\n",
            "To enable the following instructions: AVX2 FMA, in other operations, rebuild TensorFlow with the appropriate compiler flags.\n",
            "08-16 12:50:50 |  INFO  | train_ms_jp_extra.py:117 | Loading configuration from config 0\n",
            "08-16 12:50:50 |  INFO  | train_ms_jp_extra.py:117 | Loading configuration from config localhost\n",
            "08-16 12:50:50 |  INFO  | train_ms_jp_extra.py:117 | Loading configuration from config 10086\n",
            "08-16 12:50:50 |  INFO  | train_ms_jp_extra.py:117 | Loading configuration from config 0\n",
            "08-16 12:50:50 |  INFO  | train_ms_jp_extra.py:117 | Loading configuration from config 1\n",
            "08-16 12:50:50 |  INFO  | train_ms_jp_extra.py:119 | Loading environment variables \n",
            "MASTER_ADDR: localhost,\n",
            "MASTER_PORT: 10086,\n",
            "WORLD_SIZE: 1,\n",
            "RANK: 0,\n",
            "LOCAL_RANK: 0\n",
            "08-16 12:50:50 |  INFO  | default_style.py:54 | At least 2 subdirectories are required for generating style vectors with respect to them, found 0.\n",
            "08-16 12:50:50 |  INFO  | default_style.py:57 | Generating only neutral style vector instead.\n",
            "08-16 12:50:50 |  INFO  | default_style.py:28 | Saved mean style vector to /content/drive/MyDrive/Style-Bert-VITS2/model_assets/Minami\n",
            "08-16 12:50:50 |  INFO  | default_style.py:36 | Saved style config to /content/drive/MyDrive/Style-Bert-VITS2/model_assets/Minami/config.json\n",
            "08-16 12:50:50 |WARNING | __init__.py:247 | /content/Style-Bert-VITS2/style_bert_vits2/models/utils is not a git repository, therefore hash value comparison will be ignored.\n",
            "08-16 12:50:50 |  INFO  | data_utils.py:69 | Init dataset...\n",
            "100% 191/191 [00:00<00:00, 31047.25it/s]\n",
            "08-16 12:50:50 |  INFO  | data_utils.py:84 | skipped: 0, total: 191\n",
            "08-16 12:50:50 |  INFO  | data_utils.py:348 | Bucket info: [12, 12, 16, 16, 12, 20, 32, 40]\n",
            "08-16 12:50:50 |  INFO  | data_utils.py:69 | Init dataset...\n",
            "0it [00:00, ?it/s]\n",
            "08-16 12:50:50 |  INFO  | data_utils.py:84 | skipped: 0, total: 0\n",
            "08-16 12:50:50 |  INFO  | train_ms_jp_extra.py:274 | Using noise scaled MAS for VITS2\n",
            "08-16 12:50:54 |WARNING | safetensors.py:42 | Missing key: enc_p.style_proj.weight\n",
            "08-16 12:50:54 |WARNING | safetensors.py:42 | Missing key: enc_p.style_proj.bias\n",
            "08-16 12:50:54 |WARNING | safetensors.py:42 | Missing key: emb_g.weight\n",
            "08-16 12:50:54 |  INFO  | safetensors.py:48 | Loaded '/content/drive/MyDrive/Style-Bert-VITS2/Data/Minami/models/G_0.safetensors'\n",
            "08-16 12:50:55 |  INFO  | safetensors.py:48 | Loaded '/content/drive/MyDrive/Style-Bert-VITS2/Data/Minami/models/D_0.safetensors'\n",
            "08-16 12:50:55 |  INFO  | safetensors.py:48 | Loaded '/content/drive/MyDrive/Style-Bert-VITS2/Data/Minami/models/WD_0.safetensors'\n",
            "08-16 12:50:55 |  INFO  | train_ms_jp_extra.py:492 | Loaded the pretrained models.\n",
            "08-16 12:50:57 |  INFO  | train_ms_jp_extra.py:540 | Start training.\n",
            "Epoch 25(98%)/100:  25%|##5       | 1000/4000 [25:47<1:16:45,  1.54s/it]\n",
            "08-16 13:16:47 |  INFO  | train_ms_jp_extra.py:1040 | Evaluating ...\n",
            "08-16 13:16:47 |  INFO  | checkpoints.py:110 | Saving model and optimizer state at iteration 26 to /content/drive/MyDrive/Style-Bert-VITS2/Data/Minami/models/G_1000.pth\n",
            "08-16 13:16:55 |  INFO  | checkpoints.py:110 | Saving model and optimizer state at iteration 26 to /content/drive/MyDrive/Style-Bert-VITS2/Data/Minami/models/D_1000.pth\n",
            "08-16 13:16:58 |  INFO  | checkpoints.py:110 | Saving model and optimizer state at iteration 26 to /content/drive/MyDrive/Style-Bert-VITS2/Data/Minami/models/WD_1000.pth\n",
            "08-16 13:16:58 |  INFO  | checkpoints.py:173 | Free up space by deleting ckpt /content/drive/MyDrive/Style-Bert-VITS2/Data/Minami/models/G_0.safetensors\n",
            "08-16 13:16:58 |  INFO  | checkpoints.py:173 | Free up space by deleting ckpt /content/drive/MyDrive/Style-Bert-VITS2/Data/Minami/models/D_0.safetensors\n",
            "08-16 13:16:58 |  INFO  | checkpoints.py:173 | Free up space by deleting ckpt /content/drive/MyDrive/Style-Bert-VITS2/Data/Minami/models/WD_0.safetensors\n",
            "08-16 13:16:58 |  INFO  | safetensors.py:89 | Saved safetensors to /content/drive/MyDrive/Style-Bert-VITS2/model_assets/Minami/Minami_e26_s1000.safetensors\n",
            "Epoch 50(98%)/100:  50%|#####     | 2000/4000 [51:35<50:29,  1.51s/it]\n",
            "08-16 13:42:36 |  INFO  | train_ms_jp_extra.py:1040 | Evaluating ...\n",
            "08-16 13:42:36 |  INFO  | checkpoints.py:110 | Saving model and optimizer state at iteration 51 to /content/drive/MyDrive/Style-Bert-VITS2/Data/Minami/models/G_2000.pth\n",
            "08-16 13:42:48 |  INFO  | checkpoints.py:110 | Saving model and optimizer state at iteration 51 to /content/drive/MyDrive/Style-Bert-VITS2/Data/Minami/models/D_2000.pth\n",
            "08-16 13:42:55 |  INFO  | checkpoints.py:110 | Saving model and optimizer state at iteration 51 to /content/drive/MyDrive/Style-Bert-VITS2/Data/Minami/models/WD_2000.pth\n",
            "08-16 13:42:55 |  INFO  | checkpoints.py:173 | Free up space by deleting ckpt /content/drive/MyDrive/Style-Bert-VITS2/Data/Minami/models/G_1000.pth\n",
            "08-16 13:42:55 |  INFO  | checkpoints.py:173 | Free up space by deleting ckpt /content/drive/MyDrive/Style-Bert-VITS2/Data/Minami/models/D_1000.pth\n",
            "08-16 13:42:55 |  INFO  | checkpoints.py:173 | Free up space by deleting ckpt /content/drive/MyDrive/Style-Bert-VITS2/Data/Minami/models/WD_1000.pth\n",
            "08-16 13:42:55 |  INFO  | safetensors.py:89 | Saved safetensors to /content/drive/MyDrive/Style-Bert-VITS2/model_assets/Minami/Minami_e51_s2000.safetensors\n",
            "Epoch 75(98%)/100:  75%|#######5  | 3000/4000 [1:17:35<25:19,  1.52s/it]\n",
            "08-16 14:08:36 |  INFO  | train_ms_jp_extra.py:1040 | Evaluating ...\n",
            "08-16 14:08:36 |  INFO  | checkpoints.py:110 | Saving model and optimizer state at iteration 76 to /content/drive/MyDrive/Style-Bert-VITS2/Data/Minami/models/G_3000.pth\n",
            "08-16 14:08:39 |  INFO  | checkpoints.py:110 | Saving model and optimizer state at iteration 76 to /content/drive/MyDrive/Style-Bert-VITS2/Data/Minami/models/D_3000.pth\n",
            "08-16 14:08:41 |  INFO  | checkpoints.py:110 | Saving model and optimizer state at iteration 76 to /content/drive/MyDrive/Style-Bert-VITS2/Data/Minami/models/WD_3000.pth\n",
            "08-16 14:08:42 |  INFO  | checkpoints.py:173 | Free up space by deleting ckpt /content/drive/MyDrive/Style-Bert-VITS2/Data/Minami/models/G_2000.pth\n",
            "08-16 14:08:42 |  INFO  | checkpoints.py:173 | Free up space by deleting ckpt /content/drive/MyDrive/Style-Bert-VITS2/Data/Minami/models/D_2000.pth\n",
            "08-16 14:08:42 |  INFO  | checkpoints.py:173 | Free up space by deleting ckpt /content/drive/MyDrive/Style-Bert-VITS2/Data/Minami/models/WD_2000.pth\n",
            "08-16 14:08:42 |  INFO  | safetensors.py:89 | Saved safetensors to /content/drive/MyDrive/Style-Bert-VITS2/model_assets/Minami/Minami_e76_s3000.safetensors\n",
            "Epoch 100(98%)/100: 100%|##########| 4000/4000 [1:43:11<00:00,  1.52s/it]08-16 14:34:09 |  INFO  | checkpoints.py:110 | Saving model and optimizer state at iteration 100 to /content/drive/MyDrive/Style-Bert-VITS2/Data/Minami/models/G_4000.pth\n",
            "08-16 14:34:14 |  INFO  | checkpoints.py:110 | Saving model and optimizer state at iteration 100 to /content/drive/MyDrive/Style-Bert-VITS2/Data/Minami/models/D_4000.pth\n",
            "08-16 14:34:17 |  INFO  | checkpoints.py:110 | Saving model and optimizer state at iteration 100 to /content/drive/MyDrive/Style-Bert-VITS2/Data/Minami/models/WD_4000.pth\n",
            "08-16 14:34:17 |  INFO  | safetensors.py:89 | Saved safetensors to /content/drive/MyDrive/Style-Bert-VITS2/model_assets/Minami/Minami_e100_s4000.safetensors\n",
            "Epoch 100(98%)/100: 100%|##########| 4000/4000 [1:43:20<00:00,  1.55s/it]\n",
            "[rank0]:[W816 14:34:19.693613484 ProcessGroupNCCL.cpp:1496] Warning: WARNING: destroy_process_group() was not called before program exit, which can leak resources. For more info, please see https://pytorch.org/docs/stable/distributed.html#shutdown (function operator())\n"
          ]
        }
      ],
      "source": [
        "# 日本語特化版を「使う」場合\n",
        "!python train_ms_jp_extra.py --config {config_path} --model {dataset_path} --assets_root {assets_root}"
      ]
    },
    {
      "cell_type": "code",
      "execution_count": null,
      "metadata": {
        "id": "rVbjh-WPAWvU"
      },
      "outputs": [],
      "source": [
        "# 日本語特化版を「使わない」場合\n",
        "!python train_ms.py --config {config_path} --model {dataset_path} --assets_root {assets_root}"
      ]
    },
    {
      "cell_type": "code",
      "execution_count": 7,
      "metadata": {
        "colab": {
          "base_uri": "https://localhost:8080/"
        },
        "id": "c7g0hrdeP1Tl",
        "outputId": "4b719a20-7830-40df-b5ce-097e15746b78"
      },
      "outputs": [
        {
          "output_type": "stream",
          "name": "stdout",
          "text": [
            "2025-08-16 14:35:32.580754: E external/local_xla/xla/stream_executor/cuda/cuda_fft.cc:467] Unable to register cuFFT factory: Attempting to register factory for plugin cuFFT when one has already been registered\n",
            "WARNING: All log messages before absl::InitializeLog() is called are written to STDERR\n",
            "E0000 00:00:1755354932.606477   56558 cuda_dnn.cc:8579] Unable to register cuDNN factory: Attempting to register factory for plugin cuDNN when one has already been registered\n",
            "E0000 00:00:1755354932.616259   56558 cuda_blas.cc:1407] Unable to register cuBLAS factory: Attempting to register factory for plugin cuBLAS when one has already been registered\n",
            "W0000 00:00:1755354932.644770   56558 computation_placer.cc:177] computation placer already registered. Please check linkage and avoid linking the same target more than once.\n",
            "W0000 00:00:1755354932.644799   56558 computation_placer.cc:177] computation placer already registered. Please check linkage and avoid linking the same target more than once.\n",
            "W0000 00:00:1755354932.644802   56558 computation_placer.cc:177] computation placer already registered. Please check linkage and avoid linking the same target more than once.\n",
            "W0000 00:00:1755354932.644806   56558 computation_placer.cc:177] computation placer already registered. Please check linkage and avoid linking the same target more than once.\n",
            "2025-08-16 14:35:32.650058: I tensorflow/core/platform/cpu_feature_guard.cc:210] This TensorFlow binary is optimized to use available CPU instructions in performance-critical operations.\n",
            "To enable the following instructions: AVX2 FMA, in other operations, rebuild TensorFlow with the appropriate compiler flags.\n",
            "08-16 14:35:36 | DEBUG  | __init__.py:130 | pyopenjtalk worker server started\n",
            "theme_schema%401.2.2.json: 12.0kB [00:00, 32.0MB/s]\n",
            "* Running on local URL:  http://127.0.0.1:7860\n",
            "* Running on public URL: https://5b106ac7376c6df5c9.gradio.live\n",
            "\n",
            "This share link expires in 1 week. For free permanent hosting and GPU upgrades, run `gradio deploy` from the terminal in the working directory to deploy to Hugging Face Spaces (https://huggingface.co/spaces)\n",
            "08-16 14:36:53 |  INFO  | tts_model.py:259 | Start generating audio data from text:\n",
            "こんにちは、初めまして。あなたの名前はなんていうの？\n",
            "08-16 14:36:53 |  INFO  | infer.py:24 | Using JP-Extra model\n",
            "/usr/local/lib/python3.11/dist-packages/torch/nn/utils/weight_norm.py:143: FutureWarning: `torch.nn.utils.weight_norm` is deprecated in favor of `torch.nn.utils.parametrizations.weight_norm`.\n",
            "  WeightNorm.apply(module, name, dim)\n",
            "08-16 14:36:56 |  INFO  | safetensors.py:50 | Loaded '/content/drive/MyDrive/Style-Bert-VITS2/model_assets/Minami/Minami_e76_s3000.safetensors' (iteration 76)\n",
            "08-16 14:36:56 |  INFO  | bert_models.py:154 | Loaded the Languages.JP BERT tokenizer from /content/Style-Bert-VITS2/bert/deberta-v2-large-japanese-char-wwm\n",
            "08-16 14:42:46 |  INFO  | bert_models.py:92 | Loaded the Languages.JP BERT model from /content/Style-Bert-VITS2/bert/deberta-v2-large-japanese-char-wwm\n",
            "08-16 14:42:48 |  INFO  | tts_model.py:324 | Audio data generated successfully\n",
            "08-16 14:43:05 |  INFO  | tts_model.py:259 | Start generating audio data from text:\n",
            "こんにちは、初めまして。あなたの名前はなんていうの？\n",
            "08-16 14:43:05 |  INFO  | infer.py:24 | Using JP-Extra model\n",
            "08-16 14:43:06 |  INFO  | safetensors.py:50 | Loaded '/content/drive/MyDrive/Style-Bert-VITS2/model_assets/Minami/Minami_e100_s4000.safetensors' (iteration 100)\n",
            "08-16 14:43:06 |  INFO  | tts_model.py:324 | Audio data generated successfully\n",
            "08-16 14:45:00 |  INFO  | tts_model.py:259 | Start generating audio data from text:\n",
            "こんにちは、初めまして。あなたの名前はなんていうの？\n",
            "08-16 14:45:00 |  INFO  | infer.py:24 | Using JP-Extra model\n",
            "08-16 14:45:01 |  INFO  | safetensors.py:50 | Loaded '/content/drive/MyDrive/Style-Bert-VITS2/model_assets/Minami/Minami_e76_s3000.safetensors' (iteration 76)\n",
            "08-16 14:45:02 |  INFO  | tts_model.py:324 | Audio data generated successfully\n",
            "08-16 14:45:16 |  INFO  | tts_model.py:259 | Start generating audio data from text:\n",
            "こんにちは、初めまして。あなたの名前はなんていうの？\n",
            "08-16 14:45:16 |  INFO  | infer.py:24 | Using JP-Extra model\n",
            "08-16 14:45:17 |  INFO  | safetensors.py:50 | Loaded '/content/drive/MyDrive/Style-Bert-VITS2/model_assets/Minami/Minami_e100_s4000.safetensors' (iteration 100)\n",
            "08-16 14:45:17 |  INFO  | tts_model.py:324 | Audio data generated successfully\n",
            "08-16 14:45:30 |  INFO  | tts_model.py:259 | Start generating audio data from text:\n",
            "こんにちは、初めまして。あなたの名前はなんていうの？\n",
            "08-16 14:45:30 |  INFO  | infer.py:24 | Using JP-Extra model\n",
            "08-16 14:45:32 |  INFO  | safetensors.py:50 | Loaded '/content/drive/MyDrive/Style-Bert-VITS2/model_assets/Minami/Minami_e26_s1000.safetensors' (iteration 26)\n",
            "08-16 14:45:32 |  INFO  | tts_model.py:324 | Audio data generated successfully\n",
            "08-16 14:45:44 |  INFO  | tts_model.py:259 | Start generating audio data from text:\n",
            "こんにちは、初めまして。あなたの名前はなんていうの？\n",
            "08-16 14:45:44 |  INFO  | infer.py:24 | Using JP-Extra model\n",
            "08-16 14:45:46 |  INFO  | safetensors.py:50 | Loaded '/content/drive/MyDrive/Style-Bert-VITS2/model_assets/Minami/Minami_e51_s2000.safetensors' (iteration 51)\n",
            "08-16 14:45:47 |  INFO  | tts_model.py:324 | Audio data generated successfully\n",
            "08-16 14:45:56 |  INFO  | tts_model.py:259 | Start generating audio data from text:\n",
            "こんにちは、初めまして。あなたの名前はなんていうの？\n",
            "08-16 14:45:56 |  INFO  | infer.py:24 | Using JP-Extra model\n",
            "08-16 14:45:57 |  INFO  | safetensors.py:50 | Loaded '/content/drive/MyDrive/Style-Bert-VITS2/model_assets/Minami/Minami_e100_s4000.safetensors' (iteration 100)\n",
            "08-16 14:45:57 |  INFO  | tts_model.py:324 | Audio data generated successfully\n",
            "08-16 14:46:11 |  INFO  | tts_model.py:259 | Start generating audio data from text:\n",
            "こんにちは、初めまして。あなたの名前はなんていうの？\n",
            "08-16 14:46:11 |  INFO  | infer.py:24 | Using JP-Extra model\n",
            "08-16 14:46:12 |  INFO  | safetensors.py:50 | Loaded '/content/drive/MyDrive/Style-Bert-VITS2/model_assets/Minami/Minami_e51_s2000.safetensors' (iteration 51)\n",
            "08-16 14:46:12 |  INFO  | tts_model.py:324 | Audio data generated successfully\n",
            "08-16 14:46:24 |  INFO  | tts_model.py:259 | Start generating audio data from text:\n",
            "こんにちは、初めまして。あなたの名前はなんていうの？\n",
            "08-16 14:46:24 |  INFO  | infer.py:24 | Using JP-Extra model\n",
            "08-16 14:46:25 |  INFO  | safetensors.py:50 | Loaded '/content/drive/MyDrive/Style-Bert-VITS2/model_assets/Minami/Minami_e76_s3000.safetensors' (iteration 76)\n",
            "08-16 14:46:25 |  INFO  | tts_model.py:324 | Audio data generated successfully\n",
            "08-16 14:46:34 |  INFO  | tts_model.py:259 | Start generating audio data from text:\n",
            "こんにちは、初めまして。あなたの名前はなんていうの？\n",
            "08-16 14:46:34 |  INFO  | infer.py:24 | Using JP-Extra model\n",
            "08-16 14:46:35 |  INFO  | safetensors.py:50 | Loaded '/content/drive/MyDrive/Style-Bert-VITS2/model_assets/Minami/Minami_e100_s4000.safetensors' (iteration 100)\n",
            "08-16 14:46:36 |  INFO  | tts_model.py:324 | Audio data generated successfully\n",
            "08-16 14:46:49 |  INFO  | tts_model.py:259 | Start generating audio data from text:\n",
            "こんにちは、初めまして。あなたの名前はなんていうの？\n",
            "08-16 14:46:49 |  INFO  | infer.py:24 | Using JP-Extra model\n",
            "08-16 14:46:50 |  INFO  | safetensors.py:50 | Loaded '/content/drive/MyDrive/Style-Bert-VITS2/model_assets/Minami/Minami_e26_s1000.safetensors' (iteration 26)\n",
            "08-16 14:46:51 |  INFO  | tts_model.py:324 | Audio data generated successfully\n",
            "08-16 14:47:05 |  INFO  | tts_model.py:259 | Start generating audio data from text:\n",
            "私、ずっと前からあなたのことを見てきました。あなたの笑顔、優しさ、強さに、心惹かれていたんです。\n",
            "友達として過ごす中で、あなたのことがだんだんと特別な存在になっていくのがわかりました。\n",
            "えっと、私、あなたのことが好きです！もしよければ、私と付き合ってくれませんか？\n",
            "08-16 14:47:06 |  INFO  | tts_model.py:324 | Audio data generated successfully\n",
            "08-16 14:47:26 |  INFO  | tts_model.py:259 | Start generating audio data from text:\n",
            "私、ずっと前からあなたのことを見てきました。あなたの笑顔、優しさ、強さに、心惹かれていたんです。\n",
            "友達として過ごす中で、あなたのことがだんだんと特別な存在になっていくのがわかりました。\n",
            "えっと、私、あなたのことが好きです！もしよければ、私と付き合ってくれませんか？\n",
            "08-16 14:47:26 |  INFO  | infer.py:24 | Using JP-Extra model\n",
            "08-16 14:47:27 |  INFO  | safetensors.py:50 | Loaded '/content/drive/MyDrive/Style-Bert-VITS2/model_assets/Minami/Minami_e51_s2000.safetensors' (iteration 51)\n",
            "08-16 14:47:28 |  INFO  | tts_model.py:324 | Audio data generated successfully\n",
            "08-16 14:47:48 |  INFO  | tts_model.py:259 | Start generating audio data from text:\n",
            "私、ずっと前からあなたのことを見てきました。あなたの笑顔、優しさ、強さに、心惹かれていたんです。\n",
            "友達として過ごす中で、あなたのことがだんだんと特別な存在になっていくのがわかりました。\n",
            "えっと、私、あなたのことが好きです！もしよければ、私と付き合ってくれませんか？\n",
            "08-16 14:47:48 |  INFO  | infer.py:24 | Using JP-Extra model\n",
            "08-16 14:47:49 |  INFO  | safetensors.py:50 | Loaded '/content/drive/MyDrive/Style-Bert-VITS2/model_assets/Minami/Minami_e76_s3000.safetensors' (iteration 76)\n",
            "08-16 14:47:50 |  INFO  | tts_model.py:324 | Audio data generated successfully\n",
            "08-16 14:48:17 |  INFO  | tts_model.py:259 | Start generating audio data from text:\n",
            "私、ずっと前からあなたのことを見てきました。あなたの笑顔、優しさ、強さに、心惹かれていたんです。\n",
            "友達として過ごす中で、あなたのことがだんだんと特別な存在になっていくのがわかりました。\n",
            "えっと、私、あなたのことが好きです！もしよければ、私と付き合ってくれませんか？\n",
            "08-16 14:48:17 |  INFO  | infer.py:24 | Using JP-Extra model\n",
            "08-16 14:48:18 |  INFO  | safetensors.py:50 | Loaded '/content/drive/MyDrive/Style-Bert-VITS2/model_assets/Minami/Minami_e100_s4000.safetensors' (iteration 100)\n",
            "08-16 14:48:19 |  INFO  | tts_model.py:324 | Audio data generated successfully\n",
            "08-16 14:48:47 |  INFO  | tts_model.py:259 | Start generating audio data from text:\n",
            "私、ずっと前からあなたのことを見てきました。あなたの笑顔、優しさ、強さに、心惹かれていたんです。\n",
            "友達として過ごす中で、あなたのことがだんだんと特別な存在になっていくのがわかりました。\n",
            "えっと、私、あなたのことが好きです！もしよければ、私と付き合ってくれませんか？\n",
            "08-16 14:48:47 |  INFO  | infer.py:24 | Using JP-Extra model\n",
            "08-16 14:48:48 |  INFO  | safetensors.py:50 | Loaded '/content/drive/MyDrive/Style-Bert-VITS2/model_assets/Minami/Minami_e76_s3000.safetensors' (iteration 76)\n",
            "08-16 14:48:49 |  INFO  | tts_model.py:324 | Audio data generated successfully\n",
            "Keyboard interruption in main thread... closing server.\n",
            "Traceback (most recent call last):\n",
            "  File \"/usr/local/lib/python3.11/dist-packages/gradio/blocks.py\", line 3125, in block_thread\n",
            "    time.sleep(0.1)\n",
            "KeyboardInterrupt\n",
            "\n",
            "During handling of the above exception, another exception occurred:\n",
            "\n",
            "Traceback (most recent call last):\n",
            "  File \"/content/Style-Bert-VITS2/app.py\", line 59, in <module>\n",
            "    app.launch(\n",
            "  File \"/usr/local/lib/python3.11/dist-packages/gradio/blocks.py\", line 3031, in launch\n",
            "    self.block_thread()\n",
            "  File \"/usr/local/lib/python3.11/dist-packages/gradio/blocks.py\", line 3129, in block_thread\n",
            "    self.server.close()\n",
            "  File \"/usr/local/lib/python3.11/dist-packages/gradio/http_server.py\", line 69, in close\n",
            "    self.thread.join(timeout=5)\n",
            "  File \"/usr/lib/python3.11/threading.py\", line 1123, in join\n",
            "    self._wait_for_tstate_lock(timeout=max(timeout, 0))\n",
            "  File \"/usr/lib/python3.11/threading.py\", line 1139, in _wait_for_tstate_lock\n",
            "    if lock.acquire(block, timeout):\n",
            "       ^^^^^^^^^^^^^^^^^^^^^^^^^^^^\n",
            "KeyboardInterrupt\n",
            "Killing tunnel 127.0.0.1:7860 <> https://5b106ac7376c6df5c9.gradio.live\n",
            "08-16 14:52:50 | DEBUG  | __init__.py:147 | pyopenjtalk worker server terminated\n"
          ]
        }
      ],
      "source": [
        "# 学習結果を試す・マージ・スタイル分けはこちらから\n",
        "!python app.py --share"
      ]
    }
  ],
  "metadata": {
    "accelerator": "GPU",
    "colab": {
      "gpuType": "T4",
      "provenance": []
    },
    "kernelspec": {
      "display_name": "Python 3",
      "name": "python3"
    },
    "language_info": {
      "codemirror_mode": {
        "name": "ipython",
        "version": 3
      },
      "file_extension": ".py",
      "mimetype": "text/x-python",
      "name": "python",
      "nbconvert_exporter": "python",
      "pygments_lexer": "ipython3",
      "version": "3.10.11"
    }
  },
  "nbformat": 4,
  "nbformat_minor": 0
}